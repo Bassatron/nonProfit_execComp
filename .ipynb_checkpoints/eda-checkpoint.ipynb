{
 "cells": [
  {
   "cell_type": "markdown",
   "metadata": {},
   "source": [
    "# Non-Profit Executive Compensation"
   ]
  },
  {
   "cell_type": "code",
   "execution_count": 105,
   "metadata": {},
   "outputs": [],
   "source": [
    "# import libraries\n",
    "import numpy as np\n",
    "import pandas as pd\n",
    "import matplotlib.pyplot as plt\n",
    "import seaborn as sns\n",
    "from sklearn.preprocessing import MinMaxScaler"
   ]
  },
  {
   "cell_type": "code",
   "execution_count": 106,
   "metadata": {
    "scrolled": true
   },
   "outputs": [
    {
     "data": {
      "text/html": [
       "<div>\n",
       "<style scoped>\n",
       "    .dataframe tbody tr th:only-of-type {\n",
       "        vertical-align: middle;\n",
       "    }\n",
       "\n",
       "    .dataframe tbody tr th {\n",
       "        vertical-align: top;\n",
       "    }\n",
       "\n",
       "    .dataframe thead th {\n",
       "        text-align: right;\n",
       "    }\n",
       "</style>\n",
       "<table border=\"1\" class=\"dataframe\">\n",
       "  <thead>\n",
       "    <tr style=\"text-align: right;\">\n",
       "      <th></th>\n",
       "      <th>Organization</th>\n",
       "      <th>Compensation</th>\n",
       "      <th>Total Expenses</th>\n",
       "      <th>Executive_sex</th>\n",
       "      <th>Year</th>\n",
       "    </tr>\n",
       "  </thead>\n",
       "  <tbody>\n",
       "    <tr>\n",
       "      <th>0</th>\n",
       "      <td>Doctors Without Borders, USA</td>\n",
       "      <td>201968</td>\n",
       "      <td>420595919</td>\n",
       "      <td>male</td>\n",
       "      <td>2017</td>\n",
       "    </tr>\n",
       "    <tr>\n",
       "      <th>1</th>\n",
       "      <td>Doctors Without Borders, USA</td>\n",
       "      <td>143942</td>\n",
       "      <td>216535113</td>\n",
       "      <td>female</td>\n",
       "      <td>2013</td>\n",
       "    </tr>\n",
       "    <tr>\n",
       "      <th>2</th>\n",
       "      <td>American Red Cross</td>\n",
       "      <td>500000</td>\n",
       "      <td>2808630913</td>\n",
       "      <td>female</td>\n",
       "      <td>2017</td>\n",
       "    </tr>\n",
       "    <tr>\n",
       "      <th>3</th>\n",
       "      <td>American Red Cross</td>\n",
       "      <td>498800</td>\n",
       "      <td>3047227207</td>\n",
       "      <td>female</td>\n",
       "      <td>2013</td>\n",
       "    </tr>\n",
       "    <tr>\n",
       "      <th>4</th>\n",
       "      <td>The Nature Conservancy</td>\n",
       "      <td>784935</td>\n",
       "      <td>907553872</td>\n",
       "      <td>male</td>\n",
       "      <td>2017</td>\n",
       "    </tr>\n",
       "  </tbody>\n",
       "</table>\n",
       "</div>"
      ],
      "text/plain": [
       "                   Organization  Compensation  Total Expenses Executive_sex  \\\n",
       "0  Doctors Without Borders, USA        201968       420595919          male   \n",
       "1  Doctors Without Borders, USA        143942       216535113        female   \n",
       "2            American Red Cross        500000      2808630913        female   \n",
       "3            American Red Cross        498800      3047227207        female   \n",
       "4        The Nature Conservancy        784935       907553872          male   \n",
       "\n",
       "   Year  \n",
       "0  2017  \n",
       "1  2013  \n",
       "2  2017  \n",
       "3  2013  \n",
       "4  2017  "
      ]
     },
     "metadata": {},
     "output_type": "display_data"
    },
    {
     "data": {
      "text/plain": [
       "Organization      object\n",
       "Compensation       int64\n",
       "Total Expenses     int64\n",
       "Executive_sex     object\n",
       "Year               int64\n",
       "dtype: object"
      ]
     },
     "metadata": {},
     "output_type": "display_data"
    },
    {
     "data": {
      "text/html": [
       "<div>\n",
       "<style scoped>\n",
       "    .dataframe tbody tr th:only-of-type {\n",
       "        vertical-align: middle;\n",
       "    }\n",
       "\n",
       "    .dataframe tbody tr th {\n",
       "        vertical-align: top;\n",
       "    }\n",
       "\n",
       "    .dataframe thead th {\n",
       "        text-align: right;\n",
       "    }\n",
       "</style>\n",
       "<table border=\"1\" class=\"dataframe\">\n",
       "  <thead>\n",
       "    <tr style=\"text-align: right;\">\n",
       "      <th></th>\n",
       "      <th>Organization</th>\n",
       "      <th>Compensation</th>\n",
       "      <th>Total Expenses</th>\n",
       "      <th>Executive_sex</th>\n",
       "      <th>Year</th>\n",
       "    </tr>\n",
       "  </thead>\n",
       "  <tbody>\n",
       "    <tr>\n",
       "      <th>0</th>\n",
       "      <td>Microsoft</td>\n",
       "      <td>20014152</td>\n",
       "      <td>8.995000e+10</td>\n",
       "      <td>male</td>\n",
       "      <td>2017</td>\n",
       "    </tr>\n",
       "    <tr>\n",
       "      <th>1</th>\n",
       "      <td>Microsoft</td>\n",
       "      <td>1261218</td>\n",
       "      <td>7.784900e+10</td>\n",
       "      <td>male</td>\n",
       "      <td>2013</td>\n",
       "    </tr>\n",
       "    <tr>\n",
       "      <th>2</th>\n",
       "      <td>Apple</td>\n",
       "      <td>15682219</td>\n",
       "      <td>2.292340e+11</td>\n",
       "      <td>male</td>\n",
       "      <td>2017</td>\n",
       "    </tr>\n",
       "    <tr>\n",
       "      <th>3</th>\n",
       "      <td>Apple</td>\n",
       "      <td>4174992</td>\n",
       "      <td>1.709100e+11</td>\n",
       "      <td>male</td>\n",
       "      <td>2013</td>\n",
       "    </tr>\n",
       "    <tr>\n",
       "      <th>4</th>\n",
       "      <td>Amazon</td>\n",
       "      <td>1681840</td>\n",
       "      <td>1.778660e+11</td>\n",
       "      <td>male</td>\n",
       "      <td>2017</td>\n",
       "    </tr>\n",
       "  </tbody>\n",
       "</table>\n",
       "</div>"
      ],
      "text/plain": [
       "  Organization  Compensation  Total Expenses Executive_sex  Year\n",
       "0    Microsoft      20014152    8.995000e+10          male  2017\n",
       "1    Microsoft       1261218    7.784900e+10          male  2013\n",
       "2        Apple      15682219    2.292340e+11          male  2017\n",
       "3        Apple       4174992    1.709100e+11          male  2013\n",
       "4       Amazon       1681840    1.778660e+11          male  2017"
      ]
     },
     "metadata": {},
     "output_type": "display_data"
    },
    {
     "data": {
      "text/plain": [
       "Organization       object\n",
       "Compensation        int64\n",
       "Total Expenses    float64\n",
       "Executive_sex      object\n",
       "Year                int64\n",
       "dtype: object"
      ]
     },
     "metadata": {},
     "output_type": "display_data"
    }
   ],
   "source": [
    "# Load in datasets (non-profit + for-profit)\n",
    "nprofit = pd.read_csv('data/nonProfit_execComp.csv')\n",
    "nprofit.drop(['Unnamed: 5'], axis=1, inplace=True)\n",
    "\n",
    "fprofit = pd.read_csv('data/forprofit_execComp.csv')\n",
    "\n",
    "# Display data\n",
    "display(nprofit.head(), nprofit.dtypes)\n",
    "display(fprofit.head(), fprofit.dtypes)\n"
   ]
  },
  {
   "cell_type": "code",
   "execution_count": 107,
   "metadata": {},
   "outputs": [
    {
     "name": "stdout",
     "output_type": "stream",
     "text": [
      "Number of Non-profits: 23\n",
      "Number of For-profits: 23\n"
     ]
    }
   ],
   "source": [
    "# Number of Observations\n",
    "print('Number of Non-profits:',len(nprofit.Organization.unique()))\n",
    "print('Number of For-profits:',len(fprofit.Organization.unique()))"
   ]
  },
  {
   "cell_type": "code",
   "execution_count": 108,
   "metadata": {
    "scrolled": true
   },
   "outputs": [
    {
     "data": {
      "text/html": [
       "<div>\n",
       "<style scoped>\n",
       "    .dataframe tbody tr th:only-of-type {\n",
       "        vertical-align: middle;\n",
       "    }\n",
       "\n",
       "    .dataframe tbody tr th {\n",
       "        vertical-align: top;\n",
       "    }\n",
       "\n",
       "    .dataframe thead th {\n",
       "        text-align: right;\n",
       "    }\n",
       "</style>\n",
       "<table border=\"1\" class=\"dataframe\">\n",
       "  <thead>\n",
       "    <tr style=\"text-align: right;\">\n",
       "      <th></th>\n",
       "      <th>Organization</th>\n",
       "      <th>Compensation</th>\n",
       "      <th>Total Expenses</th>\n",
       "      <th>Year</th>\n",
       "      <th>Executive_sex_female</th>\n",
       "      <th>Compensation %</th>\n",
       "    </tr>\n",
       "  </thead>\n",
       "  <tbody>\n",
       "    <tr>\n",
       "      <th>0</th>\n",
       "      <td>Doctors Without Borders, USA</td>\n",
       "      <td>201968</td>\n",
       "      <td>420595919</td>\n",
       "      <td>2017</td>\n",
       "      <td>0</td>\n",
       "      <td>0.048019</td>\n",
       "    </tr>\n",
       "    <tr>\n",
       "      <th>1</th>\n",
       "      <td>Doctors Without Borders, USA</td>\n",
       "      <td>143942</td>\n",
       "      <td>216535113</td>\n",
       "      <td>2013</td>\n",
       "      <td>1</td>\n",
       "      <td>0.066475</td>\n",
       "    </tr>\n",
       "    <tr>\n",
       "      <th>2</th>\n",
       "      <td>American Red Cross</td>\n",
       "      <td>500000</td>\n",
       "      <td>2808630913</td>\n",
       "      <td>2017</td>\n",
       "      <td>1</td>\n",
       "      <td>0.017802</td>\n",
       "    </tr>\n",
       "    <tr>\n",
       "      <th>3</th>\n",
       "      <td>American Red Cross</td>\n",
       "      <td>498800</td>\n",
       "      <td>3047227207</td>\n",
       "      <td>2013</td>\n",
       "      <td>1</td>\n",
       "      <td>0.016369</td>\n",
       "    </tr>\n",
       "    <tr>\n",
       "      <th>4</th>\n",
       "      <td>The Nature Conservancy</td>\n",
       "      <td>784935</td>\n",
       "      <td>907553872</td>\n",
       "      <td>2017</td>\n",
       "      <td>0</td>\n",
       "      <td>0.086489</td>\n",
       "    </tr>\n",
       "  </tbody>\n",
       "</table>\n",
       "</div>"
      ],
      "text/plain": [
       "                   Organization  Compensation  Total Expenses  Year  \\\n",
       "0  Doctors Without Borders, USA        201968       420595919  2017   \n",
       "1  Doctors Without Borders, USA        143942       216535113  2013   \n",
       "2            American Red Cross        500000      2808630913  2017   \n",
       "3            American Red Cross        498800      3047227207  2013   \n",
       "4        The Nature Conservancy        784935       907553872  2017   \n",
       "\n",
       "   Executive_sex_female  Compensation %  \n",
       "0                     0        0.048019  \n",
       "1                     1        0.066475  \n",
       "2                     1        0.017802  \n",
       "3                     1        0.016369  \n",
       "4                     0        0.086489  "
      ]
     },
     "metadata": {},
     "output_type": "display_data"
    },
    {
     "data": {
      "text/html": [
       "<div>\n",
       "<style scoped>\n",
       "    .dataframe tbody tr th:only-of-type {\n",
       "        vertical-align: middle;\n",
       "    }\n",
       "\n",
       "    .dataframe tbody tr th {\n",
       "        vertical-align: top;\n",
       "    }\n",
       "\n",
       "    .dataframe thead th {\n",
       "        text-align: right;\n",
       "    }\n",
       "</style>\n",
       "<table border=\"1\" class=\"dataframe\">\n",
       "  <thead>\n",
       "    <tr style=\"text-align: right;\">\n",
       "      <th></th>\n",
       "      <th>Organization</th>\n",
       "      <th>Compensation</th>\n",
       "      <th>Total Expenses</th>\n",
       "      <th>Year</th>\n",
       "      <th>Executive_sex_female</th>\n",
       "      <th>Compensation %</th>\n",
       "    </tr>\n",
       "  </thead>\n",
       "  <tbody>\n",
       "    <tr>\n",
       "      <th>0</th>\n",
       "      <td>Microsoft</td>\n",
       "      <td>20014152</td>\n",
       "      <td>8.995000e+10</td>\n",
       "      <td>2017</td>\n",
       "      <td>0</td>\n",
       "      <td>0.022250</td>\n",
       "    </tr>\n",
       "    <tr>\n",
       "      <th>1</th>\n",
       "      <td>Microsoft</td>\n",
       "      <td>1261218</td>\n",
       "      <td>7.784900e+10</td>\n",
       "      <td>2013</td>\n",
       "      <td>0</td>\n",
       "      <td>0.001620</td>\n",
       "    </tr>\n",
       "    <tr>\n",
       "      <th>2</th>\n",
       "      <td>Apple</td>\n",
       "      <td>15682219</td>\n",
       "      <td>2.292340e+11</td>\n",
       "      <td>2017</td>\n",
       "      <td>0</td>\n",
       "      <td>0.006841</td>\n",
       "    </tr>\n",
       "    <tr>\n",
       "      <th>3</th>\n",
       "      <td>Apple</td>\n",
       "      <td>4174992</td>\n",
       "      <td>1.709100e+11</td>\n",
       "      <td>2013</td>\n",
       "      <td>0</td>\n",
       "      <td>0.002443</td>\n",
       "    </tr>\n",
       "    <tr>\n",
       "      <th>4</th>\n",
       "      <td>Amazon</td>\n",
       "      <td>1681840</td>\n",
       "      <td>1.778660e+11</td>\n",
       "      <td>2017</td>\n",
       "      <td>0</td>\n",
       "      <td>0.000946</td>\n",
       "    </tr>\n",
       "  </tbody>\n",
       "</table>\n",
       "</div>"
      ],
      "text/plain": [
       "  Organization  Compensation  Total Expenses  Year  Executive_sex_female  \\\n",
       "0    Microsoft      20014152    8.995000e+10  2017                     0   \n",
       "1    Microsoft       1261218    7.784900e+10  2013                     0   \n",
       "2        Apple      15682219    2.292340e+11  2017                     0   \n",
       "3        Apple       4174992    1.709100e+11  2013                     0   \n",
       "4       Amazon       1681840    1.778660e+11  2017                     0   \n",
       "\n",
       "   Compensation %  \n",
       "0        0.022250  \n",
       "1        0.001620  \n",
       "2        0.006841  \n",
       "3        0.002443  \n",
       "4        0.000946  "
      ]
     },
     "metadata": {},
     "output_type": "display_data"
    }
   ],
   "source": [
    "# Create Dummy for Female\n",
    "nprofit = pd.get_dummies(nprofit, columns=['Executive_sex'])\n",
    "nprofit.drop(['Executive_sex_male'], axis=1, inplace=True)\n",
    "\n",
    "fprofit = pd.get_dummies(fprofit, columns=['Executive_sex'])\n",
    "fprofit.drop(['Executive_sex_male'], axis=1, inplace=True)\n",
    "\n",
    "# Add Compensation as % of Expenses Column\n",
    "nprofit['Compensation %'] = (nprofit['Compensation'] / nprofit['Total Expenses']) * 100\n",
    "fprofit['Compensation %'] = (fprofit['Compensation'] / fprofit['Total Expenses']) * 100\n",
    "\n",
    "display(nprofit.head())\n",
    "display(fprofit.head())"
   ]
  },
  {
   "cell_type": "code",
   "execution_count": 150,
   "metadata": {
    "scrolled": true
   },
   "outputs": [
    {
     "data": {
      "text/plain": [
       "'Non-profit:'"
      ]
     },
     "metadata": {},
     "output_type": "display_data"
    },
    {
     "data": {
      "text/html": [
       "<div>\n",
       "<style scoped>\n",
       "    .dataframe tbody tr th:only-of-type {\n",
       "        vertical-align: middle;\n",
       "    }\n",
       "\n",
       "    .dataframe tbody tr th {\n",
       "        vertical-align: top;\n",
       "    }\n",
       "\n",
       "    .dataframe thead th {\n",
       "        text-align: right;\n",
       "    }\n",
       "</style>\n",
       "<table border=\"1\" class=\"dataframe\">\n",
       "  <thead>\n",
       "    <tr style=\"text-align: right;\">\n",
       "      <th></th>\n",
       "      <th>Compensation</th>\n",
       "      <th>Total Expenses</th>\n",
       "      <th>Year</th>\n",
       "      <th>Executive_sex_female</th>\n",
       "      <th>Compensation %</th>\n",
       "      <th>Comp_scaled</th>\n",
       "      <th>Expen_scaled</th>\n",
       "    </tr>\n",
       "  </thead>\n",
       "  <tbody>\n",
       "    <tr>\n",
       "      <th>count</th>\n",
       "      <td>4.600000e+01</td>\n",
       "      <td>4.600000e+01</td>\n",
       "      <td>46.0000</td>\n",
       "      <td>46.000000</td>\n",
       "      <td>46.000000</td>\n",
       "      <td>46.000000</td>\n",
       "      <td>46.000000</td>\n",
       "    </tr>\n",
       "    <tr>\n",
       "      <th>mean</th>\n",
       "      <td>5.185580e+05</td>\n",
       "      <td>7.002943e+08</td>\n",
       "      <td>2015.0000</td>\n",
       "      <td>0.282609</td>\n",
       "      <td>0.206574</td>\n",
       "      <td>0.342303</td>\n",
       "      <td>0.219769</td>\n",
       "    </tr>\n",
       "    <tr>\n",
       "      <th>std</th>\n",
       "      <td>2.264400e+05</td>\n",
       "      <td>7.283760e+08</td>\n",
       "      <td>2.0221</td>\n",
       "      <td>0.455243</td>\n",
       "      <td>0.242953</td>\n",
       "      <td>0.203863</td>\n",
       "      <td>0.242146</td>\n",
       "    </tr>\n",
       "    <tr>\n",
       "      <th>min</th>\n",
       "      <td>1.383460e+05</td>\n",
       "      <td>3.922846e+07</td>\n",
       "      <td>2013.0000</td>\n",
       "      <td>0.000000</td>\n",
       "      <td>0.015529</td>\n",
       "      <td>0.000000</td>\n",
       "      <td>0.000000</td>\n",
       "    </tr>\n",
       "    <tr>\n",
       "      <th>25%</th>\n",
       "      <td>3.949068e+05</td>\n",
       "      <td>2.177191e+08</td>\n",
       "      <td>2013.0000</td>\n",
       "      <td>0.000000</td>\n",
       "      <td>0.046253</td>\n",
       "      <td>0.230981</td>\n",
       "      <td>0.059339</td>\n",
       "    </tr>\n",
       "    <tr>\n",
       "      <th>50%</th>\n",
       "      <td>4.859075e+05</td>\n",
       "      <td>4.168752e+08</td>\n",
       "      <td>2015.0000</td>\n",
       "      <td>0.000000</td>\n",
       "      <td>0.096294</td>\n",
       "      <td>0.312908</td>\n",
       "      <td>0.125547</td>\n",
       "    </tr>\n",
       "    <tr>\n",
       "      <th>75%</th>\n",
       "      <td>6.462898e+05</td>\n",
       "      <td>9.924619e+08</td>\n",
       "      <td>2017.0000</td>\n",
       "      <td>1.000000</td>\n",
       "      <td>0.298337</td>\n",
       "      <td>0.457300</td>\n",
       "      <td>0.316900</td>\n",
       "    </tr>\n",
       "    <tr>\n",
       "      <th>max</th>\n",
       "      <td>1.249092e+06</td>\n",
       "      <td>3.047227e+09</td>\n",
       "      <td>2017.0000</td>\n",
       "      <td>1.000000</td>\n",
       "      <td>1.014960</td>\n",
       "      <td>1.000000</td>\n",
       "      <td>1.000000</td>\n",
       "    </tr>\n",
       "  </tbody>\n",
       "</table>\n",
       "</div>"
      ],
      "text/plain": [
       "       Compensation  Total Expenses       Year  Executive_sex_female  \\\n",
       "count  4.600000e+01    4.600000e+01    46.0000             46.000000   \n",
       "mean   5.185580e+05    7.002943e+08  2015.0000              0.282609   \n",
       "std    2.264400e+05    7.283760e+08     2.0221              0.455243   \n",
       "min    1.383460e+05    3.922846e+07  2013.0000              0.000000   \n",
       "25%    3.949068e+05    2.177191e+08  2013.0000              0.000000   \n",
       "50%    4.859075e+05    4.168752e+08  2015.0000              0.000000   \n",
       "75%    6.462898e+05    9.924619e+08  2017.0000              1.000000   \n",
       "max    1.249092e+06    3.047227e+09  2017.0000              1.000000   \n",
       "\n",
       "       Compensation %  Comp_scaled  Expen_scaled  \n",
       "count       46.000000    46.000000     46.000000  \n",
       "mean         0.206574     0.342303      0.219769  \n",
       "std          0.242953     0.203863      0.242146  \n",
       "min          0.015529     0.000000      0.000000  \n",
       "25%          0.046253     0.230981      0.059339  \n",
       "50%          0.096294     0.312908      0.125547  \n",
       "75%          0.298337     0.457300      0.316900  \n",
       "max          1.014960     1.000000      1.000000  "
      ]
     },
     "metadata": {},
     "output_type": "display_data"
    },
    {
     "data": {
      "text/plain": [
       "'For-Profit:'"
      ]
     },
     "metadata": {},
     "output_type": "display_data"
    },
    {
     "data": {
      "text/html": [
       "<div>\n",
       "<style scoped>\n",
       "    .dataframe tbody tr th:only-of-type {\n",
       "        vertical-align: middle;\n",
       "    }\n",
       "\n",
       "    .dataframe tbody tr th {\n",
       "        vertical-align: top;\n",
       "    }\n",
       "\n",
       "    .dataframe thead th {\n",
       "        text-align: right;\n",
       "    }\n",
       "</style>\n",
       "<table border=\"1\" class=\"dataframe\">\n",
       "  <thead>\n",
       "    <tr style=\"text-align: right;\">\n",
       "      <th></th>\n",
       "      <th>Compensation</th>\n",
       "      <th>Total Expenses</th>\n",
       "      <th>Year</th>\n",
       "      <th>Executive_sex_female</th>\n",
       "      <th>Compensation %</th>\n",
       "      <th>Comp_scaled</th>\n",
       "      <th>Expen_scaled</th>\n",
       "    </tr>\n",
       "  </thead>\n",
       "  <tbody>\n",
       "    <tr>\n",
       "      <th>count</th>\n",
       "      <td>4.600000e+01</td>\n",
       "      <td>4.600000e+01</td>\n",
       "      <td>46.0000</td>\n",
       "      <td>46.000000</td>\n",
       "      <td>46.000000</td>\n",
       "      <td>46.000000</td>\n",
       "      <td>46.000000</td>\n",
       "    </tr>\n",
       "    <tr>\n",
       "      <th>mean</th>\n",
       "      <td>1.467921e+07</td>\n",
       "      <td>8.768511e+10</td>\n",
       "      <td>2015.0000</td>\n",
       "      <td>0.021739</td>\n",
       "      <td>0.087961</td>\n",
       "      <td>0.485838</td>\n",
       "      <td>0.177513</td>\n",
       "    </tr>\n",
       "    <tr>\n",
       "      <th>std</th>\n",
       "      <td>7.936363e+06</td>\n",
       "      <td>1.015127e+11</td>\n",
       "      <td>2.0221</td>\n",
       "      <td>0.147442</td>\n",
       "      <td>0.175505</td>\n",
       "      <td>0.269820</td>\n",
       "      <td>0.209682</td>\n",
       "    </tr>\n",
       "    <tr>\n",
       "      <th>min</th>\n",
       "      <td>3.889680e+05</td>\n",
       "      <td>1.746278e+09</td>\n",
       "      <td>2013.0000</td>\n",
       "      <td>0.000000</td>\n",
       "      <td>0.000642</td>\n",
       "      <td>0.000000</td>\n",
       "      <td>0.000000</td>\n",
       "    </tr>\n",
       "    <tr>\n",
       "      <th>25%</th>\n",
       "      <td>9.208814e+06</td>\n",
       "      <td>3.106750e+10</td>\n",
       "      <td>2013.0000</td>\n",
       "      <td>0.000000</td>\n",
       "      <td>0.008384</td>\n",
       "      <td>0.299856</td>\n",
       "      <td>0.060565</td>\n",
       "    </tr>\n",
       "    <tr>\n",
       "      <th>50%</th>\n",
       "      <td>1.605809e+07</td>\n",
       "      <td>5.805800e+10</td>\n",
       "      <td>2015.0000</td>\n",
       "      <td>0.000000</td>\n",
       "      <td>0.025022</td>\n",
       "      <td>0.532717</td>\n",
       "      <td>0.116316</td>\n",
       "    </tr>\n",
       "    <tr>\n",
       "      <th>75%</th>\n",
       "      <td>2.064373e+07</td>\n",
       "      <td>1.080472e+11</td>\n",
       "      <td>2017.0000</td>\n",
       "      <td>0.000000</td>\n",
       "      <td>0.052545</td>\n",
       "      <td>0.688619</td>\n",
       "      <td>0.219573</td>\n",
       "    </tr>\n",
       "    <tr>\n",
       "      <th>max</th>\n",
       "      <td>2.980256e+07</td>\n",
       "      <td>4.858730e+11</td>\n",
       "      <td>2017.0000</td>\n",
       "      <td>1.000000</td>\n",
       "      <td>0.781340</td>\n",
       "      <td>1.000000</td>\n",
       "      <td>1.000000</td>\n",
       "    </tr>\n",
       "  </tbody>\n",
       "</table>\n",
       "</div>"
      ],
      "text/plain": [
       "       Compensation  Total Expenses       Year  Executive_sex_female  \\\n",
       "count  4.600000e+01    4.600000e+01    46.0000             46.000000   \n",
       "mean   1.467921e+07    8.768511e+10  2015.0000              0.021739   \n",
       "std    7.936363e+06    1.015127e+11     2.0221              0.147442   \n",
       "min    3.889680e+05    1.746278e+09  2013.0000              0.000000   \n",
       "25%    9.208814e+06    3.106750e+10  2013.0000              0.000000   \n",
       "50%    1.605809e+07    5.805800e+10  2015.0000              0.000000   \n",
       "75%    2.064373e+07    1.080472e+11  2017.0000              0.000000   \n",
       "max    2.980256e+07    4.858730e+11  2017.0000              1.000000   \n",
       "\n",
       "       Compensation %  Comp_scaled  Expen_scaled  \n",
       "count       46.000000    46.000000     46.000000  \n",
       "mean         0.087961     0.485838      0.177513  \n",
       "std          0.175505     0.269820      0.209682  \n",
       "min          0.000642     0.000000      0.000000  \n",
       "25%          0.008384     0.299856      0.060565  \n",
       "50%          0.025022     0.532717      0.116316  \n",
       "75%          0.052545     0.688619      0.219573  \n",
       "max          0.781340     1.000000      1.000000  "
      ]
     },
     "metadata": {},
     "output_type": "display_data"
    }
   ],
   "source": [
    "# Summary Statistics\n",
    "\n",
    "display('Non-profit:', nprofit.describe())\n",
    "display('For-Profit:', fprofit.describe())"
   ]
  },
  {
   "cell_type": "code",
   "execution_count": 162,
   "metadata": {},
   "outputs": [
    {
     "data": {
      "text/plain": [
       "0.08207830740457296"
      ]
     },
     "execution_count": 162,
     "metadata": {},
     "output_type": "execute_result"
    }
   ],
   "source": [
    "# Calculate average compensation % in both time frames\n",
    "# 2013\n",
    "nprofit['Compensation %'].loc[nprofit['Year'] == 2013].mean()\n",
    "fprofit['Compensation %'].loc[fprofit['Year'] == 2013].mean()\n",
    "# # 2017\n",
    "nprofit['Compensation %'].loc[nprofit['Year'] == 2017].mean()\n",
    "fprofit['Compensation %'].loc[fprofit['Year'] == 2017].mean()"
   ]
  },
  {
   "cell_type": "code",
   "execution_count": 115,
   "metadata": {},
   "outputs": [
    {
     "data": {
      "image/png": "[encoded data removed]",
      "text/plain": [
       "<Figure size 864x360 with 2 Axes>"
      ]
     },
     "metadata": {
      "needs_background": "light"
     },
     "output_type": "display_data"
    },
    {
     "data": {
      "image/png": "[encoded data removed]",
      "text/plain": [
       "<Figure size 864x360 with 2 Axes>"
      ]
     },
     "metadata": {
      "needs_background": "light"
     },
     "output_type": "display_data"
    }
   ],
   "source": [
    "# Basic Visualization of the Data\n",
    "\n",
    "# Compensation vs Total Expenses\n",
    "fig, ax = plt.subplots(1,2, figsize=(12,5))\n",
    "sns.regplot(nprofit['Compensation'], nprofit['Total Expenses'], ax=ax[0])\n",
    "sns.regplot(fprofit['Compensation'], fprofit['Total Expenses'], ax=ax[1])\n",
    "\n",
    "fig.suptitle('Executive Compensation vs Total Expenses')\n",
    "\n",
    "# Compensation % vs Total Expenses\n",
    "fig, ax = plt.subplots(1,2, figsize=(12,5))\n",
    "sns.regplot(nprofit['Compensation %'], nprofit['Total Expenses'], ax=ax[0])\n",
    "sns.regplot(fprofit['Compensation %'], fprofit['Total Expenses'], ax=ax[1])\n",
    "\n",
    "fig.suptitle('Executive Compensation as a % of Total Expenses')\n",
    "\n",
    "plt.show()"
   ]
  },
  {
   "cell_type": "markdown",
   "metadata": {},
   "source": [
    "## But what we really want to know is how is executive compensation changing over time"
   ]
  },
  {
   "cell_type": "code",
   "execution_count": 173,
   "metadata": {
    "scrolled": true
   },
   "outputs": [
    {
     "data": {
      "image/png": "[encoded data removed]",
      "text/plain": [
       "<Figure size 864x504 with 1 Axes>"
      ]
     },
     "metadata": {
      "needs_background": "light"
     },
     "output_type": "display_data"
    }
   ],
   "source": [
    "# Graph Compensation % of Expenses over time for both Non-profits & For-profits\n",
    "fig, ax = plt.subplots(figsize=(12,7))\n",
    "sns.lineplot(x='Year', y='Compensation %', data=nprofit, label='Non-Profit')\n",
    "sns.lineplot(x='Year', y='Compensation %', data=fprofit, label='For-Profit')\n",
    "\n",
    "plt.locator_params(axis='x', nbins=5)\n",
    "ax.set(title='Compensation % Over Time')\n",
    "plt.show()"
   ]
  },
  {
   "cell_type": "markdown",
   "metadata": {},
   "source": [
    "Both are following a similar downward trend over time, but noteably, the for-profit executive salaries are signficantly less than non-profit executive salaries as a percentage of total expenses. My hypothesis for why this is occuring is the massive expenses in the for-profit space relative to non-profits."
   ]
  },
  {
   "cell_type": "code",
   "execution_count": 168,
   "metadata": {
    "scrolled": true
   },
   "outputs": [
    {
     "data": {
      "image/png": "[encoded data removed]",
      "text/plain": [
       "<Figure size 864x504 with 1 Axes>"
      ]
     },
     "metadata": {
      "needs_background": "light"
     },
     "output_type": "display_data"
    },
    {
     "name": "stdout",
     "output_type": "stream",
     "text": [
      "Female Executive Compensation: 0.1322560815556026\n",
      "Male Executive Compensation: 0.235850934720482\n"
     ]
    }
   ],
   "source": [
    "# Graph Compensation % of Expenses over time for both Non-profits & For-profits (MALE vs FEMALE)\n",
    "fig, ax = plt.subplots(figsize=(12,7))\n",
    "sns.lineplot(x='Year', y='Compensation %', data=nprofit.loc[nprofit['Executive_sex_female']==1], label='Female Executives')\n",
    "sns.lineplot(x='Year', y='Compensation %', data=nprofit.loc[nprofit['Executive_sex_female']==0], label='Male Executives')\n",
    "\n",
    "plt.locator_params(axis='x', nbins=5)\n",
    "ax.set(title='Male vs Female Executive Compensation in Non-profits')\n",
    "plt.show()\n",
    "\n",
    "# Calculate difference\n",
    "print('Female Executive Compensation:', nprofit['Compensation %'].loc[nprofit['Executive_sex_female']==1].mean())\n",
    "print('Male Executive Compensation:', nprofit['Compensation %'].loc[nprofit['Executive_sex_female']==0].mean())\n"
   ]
  },
  {
   "cell_type": "code",
   "execution_count": 174,
   "metadata": {},
   "outputs": [
    {
     "data": {
      "text/plain": [
       "0.12253393758396473"
      ]
     },
     "execution_count": 174,
     "metadata": {},
     "output_type": "execute_result"
    }
   ],
   "source": [
    "\n",
    "\n",
    "scaler = MinMaxScaler()\n",
    "scaler.fit(nprofit[['Compensation', 'Total Expenses']])\n",
    "nprofit_scaled = scaler.transform(nprofit[['Compensation', 'Total Expenses']])\n",
    "\n",
    "nprofit['Comp_scaled'] = nprofit_scaled[:,0]\n",
    "nprofit['Expen_scaled'] = nprofit_scaled[:,1]\n",
    "np.mean(nprofit['Comp_scaled'] - nprofit['Expen_scaled'])"
   ]
  },
  {
   "cell_type": "code",
   "execution_count": 175,
   "metadata": {},
   "outputs": [
    {
     "data": {
      "text/plain": [
       "0.3083248982904237"
      ]
     },
     "execution_count": 175,
     "metadata": {},
     "output_type": "execute_result"
    }
   ],
   "source": [
    "\n",
    "\n",
    "scaler = MinMaxScaler()\n",
    "scaler.fit(fprofit[['Compensation', 'Total Expenses']])\n",
    "fprofit_scaled = scaler.transform(fprofit[['Compensation', 'Total Expenses']])\n",
    "\n",
    "fprofit['Comp_scaled'] = fprofit_scaled[:,0]\n",
    "fprofit['Expen_scaled'] = fprofit_scaled[:,1]\n",
    "np.mean(fprofit['Comp_scaled'] - fprofit['Expen_scaled'])"
   ]
  },
  {
   "cell_type": "code",
   "execution_count": 176,
   "metadata": {},
   "outputs": [
    {
     "data": {
      "image/png": "[encoded data removed]",
      "text/plain": [
       "<Figure size 648x432 with 1 Axes>"
      ]
     },
     "metadata": {
      "needs_background": "light"
     },
     "output_type": "display_data"
    }
   ],
   "source": [
    "# Graph the scaled Compensation data\n",
    "fig, ax = plt.subplots(figsize=(9,6))\n",
    "\n",
    "sns.lineplot(x='Year', y='Comp_scaled', data=nprofit, label='Non Profit', ax=ax)\n",
    "sns.lineplot(x='Year', y='Comp_scaled', data=fprofit, label='For Profit', ax=ax)\n",
    "\n",
    "\n",
    "ax.set(title='Change in Scaled Compensation from 2013 to 2017', ylabel='Scaled Total Compensation')\n",
    "plt.locator_params(axis='x', nbins=5)"
   ]
  },
  {
   "cell_type": "code",
   "execution_count": 178,
   "metadata": {},
   "outputs": [
    {
     "data": {
      "image/png": "[encoded data removed]",
      "text/plain": [
       "<Figure size 648x432 with 1 Axes>"
      ]
     },
     "metadata": {
      "needs_background": "light"
     },
     "output_type": "display_data"
    }
   ],
   "source": [
    "# Graph scaled expenses\n",
    "fig, ax = plt.subplots(figsize=(9,6))\n",
    "\n",
    "sns.lineplot(x='Year', y='Expen_scaled', data=nprofit, label='Non Profit', ax=ax)\n",
    "sns.lineplot(x='Year', y='Expen_scaled', data=fprofit, label='For Profit', ax=ax)\n",
    "\n",
    "ax.set(title='Change in Scaled Expenses from 2013 to 2017', ylabel='Scaled Total Expenses')\n",
    "plt.locator_params(axis='x', nbins=5)"
   ]
  },
  {
   "cell_type": "code",
   "execution_count": null,
   "metadata": {},
   "outputs": [],
   "source": []
  }
 ],
 "metadata": {
  "kernelspec": {
   "display_name": "Python 3",
   "language": "python",
   "name": "python3"
  },
  "language_info": {
   "codemirror_mode": {
    "name": "ipython",
    "version": 3
   },
   "file_extension": ".py",
   "mimetype": "text/x-python",
   "name": "python",
   "nbconvert_exporter": "python",
   "pygments_lexer": "ipython3",
   "version": "3.7.4"
  }
 },
 "nbformat": 4,
 "nbformat_minor": 2
}
